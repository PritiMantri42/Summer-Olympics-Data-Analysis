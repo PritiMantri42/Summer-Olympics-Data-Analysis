{
  "nbformat": 4,
  "nbformat_minor": 0,
  "metadata": {
    "kernelspec": {
      "display_name": "Python 2",
      "language": "python",
      "name": "python2"
    },
    "language_info": {
      "codemirror_mode": {
        "name": "ipython",
        "version": 2
      },
      "file_extension": ".py",
      "mimetype": "text/x-python",
      "name": "python",
      "nbconvert_exporter": "python",
      "pygments_lexer": "ipython2",
      "version": "2.7.16"
    },
    "colab": {
      "name": "Summer.ipynb",
      "provenance": [],
      "collapsed_sections": []
    }
  },
  "cells": [
    {
      "cell_type": "markdown",
      "metadata": {
        "id": "DbEgetJURq4A"
      },
      "source": [
        "# **Summer Olympics Data Analysis Assignment**"
      ]
    },
    {
      "cell_type": "code",
      "metadata": {
        "id": "HFyKS_U_R4dI"
      },
      "source": [
        "import pandas as pd\n",
        "df=pd.read_csv('summer.csv')"
      ],
      "execution_count": 1,
      "outputs": []
    },
    {
      "cell_type": "markdown",
      "metadata": {
        "id": "zA7fF9FKRq4E"
      },
      "source": [
        "### 1. In how many cities Summer Olympics is held so far?"
      ]
    },
    {
      "cell_type": "code",
      "metadata": {
        "colab": {
          "base_uri": "https://localhost:8080/"
        },
        "id": "RjvWE8jSRq4F",
        "outputId": "dda3de8f-0230-4ba1-93b1-941ec43986ca"
      },
      "source": [
        "print(len(df['City'].unique()))"
      ],
      "execution_count": 2,
      "outputs": [
        {
          "output_type": "stream",
          "name": "stdout",
          "text": [
            "22\n"
          ]
        }
      ]
    },
    {
      "cell_type": "markdown",
      "metadata": {
        "id": "YVn2n95fRq4G"
      },
      "source": [
        "### 2. Which sport is having most number of Gold Medals so far? (Top 5)"
      ]
    },
    {
      "cell_type": "code",
      "metadata": {
        "colab": {
          "base_uri": "https://localhost:8080/"
        },
        "id": "qu_01mSApfBv",
        "outputId": "25838358-79b8-4d97-d782-40150bb9c118"
      },
      "source": [
        "data=df[df['Medal']== 'Gold'].groupby('Sport').count().sort_values(['Medal'], ascending=False)\n",
        "data=data['Medal'].head()\n",
        "\n",
        "print(data)"
      ],
      "execution_count": 17,
      "outputs": [
        {
          "output_type": "stream",
          "name": "stdout",
          "text": [
            "Sport\n",
            "Aquatics      1421\n",
            "Athletics     1215\n",
            "Rowing         890\n",
            "Gymnastics     820\n",
            "Fencing        552\n",
            "Name: Medal, dtype: int64\n"
          ]
        }
      ]
    },
    {
      "cell_type": "code",
      "metadata": {
        "colab": {
          "base_uri": "https://localhost:8080/",
          "height": 403
        },
        "id": "okG_J7goYcPc",
        "outputId": "33fc787b-3e03-4cc5-f833-9935efe842e0"
      },
      "source": [
        "data.plot(x = 'Athlete',y = 'Medal',kind ='bar',figsize =(5,5))"
      ],
      "execution_count": 18,
      "outputs": [
        {
          "output_type": "execute_result",
          "data": {
            "text/plain": [
              "<matplotlib.axes._subplots.AxesSubplot at 0x7f4973451210>"
            ]
          },
          "metadata": {},
          "execution_count": 18
        },
        {
          "output_type": "display_data",
          "data": {
            "image/png": "[encoded data removed]",
            "text/plain": [
              "<Figure size 360x360 with 1 Axes>"
            ]
          },
          "metadata": {
            "needs_background": "light"
          }
        }
      ]
    },
    {
      "cell_type": "markdown",
      "metadata": {
        "id": "4Zerhy7URq4H"
      },
      "source": [
        "### 3. Which sport is having most number of medals so far? (Top 5)"
      ]
    },
    {
      "cell_type": "code",
      "metadata": {
        "colab": {
          "base_uri": "https://localhost:8080/"
        },
        "id": "xhyC2IjFRq4H",
        "outputId": "34896b7e-06b6-43b2-8606-0dc2d3fb2d59"
      },
      "source": [
        "data=[]\n",
        "for Sport in df['Sport'].unique(): \n",
        "    data.append([Sport ,len(df[df['Sport']== Sport])])\n",
        "\n",
        "data=pd.DataFrame(data,columns=['Sport','freq'])\n",
        "\n",
        "data=data.sort_values( by='freq',ascending=False).head()\n",
        "print(data)"
      ],
      "execution_count": 19,
      "outputs": [
        {
          "output_type": "stream",
          "name": "stdout",
          "text": [
            "         Sport  freq\n",
            "0     Aquatics  4170\n",
            "1    Athletics  3638\n",
            "17      Rowing  2667\n",
            "4   Gymnastics  2307\n",
            "3      Fencing  1613\n"
          ]
        }
      ]
    },
    {
      "cell_type": "code",
      "metadata": {
        "colab": {
          "base_uri": "https://localhost:8080/",
          "height": 403
        },
        "id": "QP3mwlKuqlIo",
        "outputId": "b5a165dd-61e3-446c-b89c-e3696ef102f9"
      },
      "source": [
        "data.plot(x='Sport',y='freq',kind='bar',figsize=(5,5))"
      ],
      "execution_count": 20,
      "outputs": [
        {
          "output_type": "execute_result",
          "data": {
            "text/plain": [
              "<matplotlib.axes._subplots.AxesSubplot at 0x7f4973318150>"
            ]
          },
          "metadata": {},
          "execution_count": 20
        },
        {
          "output_type": "display_data",
          "data": {
            "image/png": "[encoded data removed]",
            "text/plain": [
              "<Figure size 360x360 with 1 Axes>"
            ]
          },
          "metadata": {
            "needs_background": "light"
          }
        }
      ]
    },
    {
      "cell_type": "markdown",
      "metadata": {
        "id": "S0FFA7XxRq4I"
      },
      "source": [
        "### 4. Which player has won most number of medals? (Top 5)"
      ]
    },
    {
      "cell_type": "code",
      "metadata": {
        "colab": {
          "base_uri": "https://localhost:8080/"
        },
        "id": "TrtzPjZyRq4I",
        "outputId": "4ef14910-766d-49a6-ec5b-c78256d7cc2f"
      },
      "source": [
        "data=[]\n",
        "for Athlete in df['Athlete'].unique():\n",
        "  data.append([Athlete,len(df[df['Athlete'] == Athlete])])\n",
        "\n",
        "data=pd.DataFrame(data,columns=['Athlete','freq'])\n",
        "data=data.sort_values(by='freq',ascending=False).head()\n",
        "print(data)"
      ],
      "execution_count": 21,
      "outputs": [
        {
          "output_type": "stream",
          "name": "stdout",
          "text": [
            "                    Athlete  freq\n",
            "18640       PHELPS, Michael    22\n",
            "7197       LATYNINA, Larisa    18\n",
            "9948     ANDRIANOV, Nikolay    15\n",
            "6591           ONO, Takashi    13\n",
            "5103   MANGIAROTTI, Edoardo    13\n"
          ]
        }
      ]
    },
    {
      "cell_type": "code",
      "metadata": {
        "colab": {
          "base_uri": "https://localhost:8080/",
          "height": 462
        },
        "id": "xbNMWNOoTk2H",
        "outputId": "77ea707b-29a8-4bd5-8f3f-e3fc700b8f74"
      },
      "source": [
        "data.plot(x='Athlete',y='freq',kind='bar',figsize=(5,5))"
      ],
      "execution_count": 22,
      "outputs": [
        {
          "output_type": "execute_result",
          "data": {
            "text/plain": [
              "<matplotlib.axes._subplots.AxesSubplot at 0x7f497347e450>"
            ]
          },
          "metadata": {},
          "execution_count": 22
        },
        {
          "output_type": "display_data",
          "data": {
            "image/png": "[encoded data removed]",
            "text/plain": [
              "<Figure size 360x360 with 1 Axes>"
            ]
          },
          "metadata": {
            "needs_background": "light"
          }
        }
      ]
    },
    {
      "cell_type": "markdown",
      "metadata": {
        "id": "34elyF69Rq4I"
      },
      "source": [
        "### 5. Which player has won most number Gold Medals of medals? (Top 5)"
      ]
    },
    {
      "cell_type": "code",
      "metadata": {
        "colab": {
          "base_uri": "https://localhost:8080/"
        },
        "id": "7yKVWT07Rq4J",
        "outputId": "fa6f4521-5492-411c-f272-8d8838008785"
      },
      "source": [
        "gold=df[df['Medal']== 'Gold'].groupby('Athlete').count().sort_values(['Medal'], ascending=False)\n",
        "data=gold['Medal'].head()\n",
        "\n",
        "print(data)"
      ],
      "execution_count": 23,
      "outputs": [
        {
          "output_type": "stream",
          "name": "stdout",
          "text": [
            "Athlete\n",
            "PHELPS, Michael     18\n",
            "LEWIS, Carl          9\n",
            "NURMI, Paavo         9\n",
            "SPITZ, Mark          9\n",
            "LATYNINA, Larisa     9\n",
            "Name: Medal, dtype: int64\n"
          ]
        }
      ]
    },
    {
      "cell_type": "code",
      "metadata": {
        "colab": {
          "base_uri": "https://localhost:8080/",
          "height": 430
        },
        "id": "XxLzCIiFoBYD",
        "outputId": "801a6918-be50-4341-fd5d-29fbb14fa247"
      },
      "source": [
        "data.plot(x = 'Athlete',y = 'Medal',kind ='bar',figsize =(10,5))"
      ],
      "execution_count": 24,
      "outputs": [
        {
          "output_type": "execute_result",
          "data": {
            "text/plain": [
              "<matplotlib.axes._subplots.AxesSubplot at 0x7f497331aa10>"
            ]
          },
          "metadata": {},
          "execution_count": 24
        },
        {
          "output_type": "display_data",
          "data": {
            "image/png": "[encoded data removed]",
            "text/plain": [
              "<Figure size 720x360 with 1 Axes>"
            ]
          },
          "metadata": {
            "needs_background": "light"
          }
        }
      ]
    },
    {
      "cell_type": "markdown",
      "metadata": {
        "id": "OiaMycmeRq4J"
      },
      "source": [
        "### 6. In which year India won first Gold Medal in Summer Olympics?"
      ]
    },
    {
      "cell_type": "code",
      "metadata": {
        "colab": {
          "base_uri": "https://localhost:8080/"
        },
        "id": "FV3zoJlpRq4J",
        "outputId": "ccbb9591-80cd-42c7-fd13-cd4d7c911ca4"
      },
      "source": [
        "India=df[df['Country']=='IND']\n",
        "IndiaGold=India[India['Medal']=='Gold'].sort_values(['Year'],ascending=True)\n",
        "print(IndiaGold['Year'].head(1))"
      ],
      "execution_count": 25,
      "outputs": [
        {
          "output_type": "stream",
          "name": "stdout",
          "text": [
            "5512    1928\n",
            "Name: Year, dtype: int64\n"
          ]
        }
      ]
    },
    {
      "cell_type": "markdown",
      "metadata": {
        "id": "GaThpjX9Rq4K"
      },
      "source": [
        "### 7. Which event is most popular in terms on number of players? (Top 5)"
      ]
    },
    {
      "cell_type": "code",
      "metadata": {
        "colab": {
          "base_uri": "https://localhost:8080/"
        },
        "id": "Rw0WE0n7Rq4K",
        "outputId": "eeb95cec-676f-45d6-b2b1-44fe7fde9dfb"
      },
      "source": [
        "data=[]\n",
        "for Event in df['Event'].unique():\n",
        "  data.append([Event,len(df[df['Event'] == Event])])\n",
        "\n",
        "data=pd.DataFrame(data,columns=['Event','freq'])\n",
        "data=data.sort_values(by='freq',ascending=False).head()\n",
        "print(data)"
      ],
      "execution_count": 26,
      "outputs": [
        {
          "output_type": "stream",
          "name": "stdout",
          "text": [
            "                Event  freq\n",
            "80           Football  1497\n",
            "176            Hockey  1422\n",
            "138  Team Competition  1147\n",
            "327        Basketball  1012\n",
            "337          Handball   973\n"
          ]
        }
      ]
    },
    {
      "cell_type": "code",
      "metadata": {
        "colab": {
          "base_uri": "https://localhost:8080/",
          "height": 436
        },
        "id": "QcAdwOSQaHad",
        "outputId": "f0e380d1-a3dc-4b2e-ff6a-4b1234de39ed"
      },
      "source": [
        "data.plot(x='Event',y='freq',kind='bar',figsize=(10,5))"
      ],
      "execution_count": 27,
      "outputs": [
        {
          "output_type": "execute_result",
          "data": {
            "text/plain": [
              "<matplotlib.axes._subplots.AxesSubplot at 0x7f49731fa490>"
            ]
          },
          "metadata": {},
          "execution_count": 27
        },
        {
          "output_type": "display_data",
          "data": {
            "image/png": "[encoded data removed]",
            "text/plain": [
              "<Figure size 720x360 with 1 Axes>"
            ]
          },
          "metadata": {
            "needs_background": "light"
          }
        }
      ]
    },
    {
      "cell_type": "markdown",
      "metadata": {
        "id": "cATq4tB9Rq4K"
      },
      "source": [
        "### 8. Which sport is having most female Gold Medalists? (Top 5)"
      ]
    },
    {
      "cell_type": "code",
      "metadata": {
        "colab": {
          "base_uri": "https://localhost:8080/"
        },
        "id": "-jxmmqrBehda",
        "outputId": "d9af7894-7eaf-4553-9c54-e8b3952aa0bb"
      },
      "source": [
        "gold=df[df['Medal']=='Gold']\n",
        "FemaleGold= gold[gold['Gender']=='Women'].groupby('Sport').count()\n",
        "\n",
        "Sport_Female_Gold=FemaleGold.sort_values(['Medal'],ascending=False)\n",
        "data=Sport_Female_Gold['Medal'].head()\n",
        "print(data)"
      ],
      "execution_count": 28,
      "outputs": [
        {
          "output_type": "stream",
          "name": "stdout",
          "text": [
            "Sport\n",
            "Aquatics      589\n",
            "Athletics     389\n",
            "Gymnastics    268\n",
            "Rowing        217\n",
            "Volleyball    166\n",
            "Name: Medal, dtype: int64\n"
          ]
        }
      ]
    },
    {
      "cell_type": "code",
      "metadata": {
        "colab": {
          "base_uri": "https://localhost:8080/",
          "height": 403
        },
        "id": "Qm0cn-NzhA57",
        "outputId": "de354c62-2d59-4acc-c43f-949397bd3563"
      },
      "source": [
        "data.plot( x= 'Sport', y= 'Medal',kind='bar',figsize=(10,5))"
      ],
      "execution_count": 29,
      "outputs": [
        {
          "output_type": "execute_result",
          "data": {
            "text/plain": [
              "<matplotlib.axes._subplots.AxesSubplot at 0x7f4973126610>"
            ]
          },
          "metadata": {},
          "execution_count": 29
        },
        {
          "output_type": "display_data",
          "data": {
            "image/png": "[encoded data removed]",
            "text/plain": [
              "<Figure size 720x360 with 1 Axes>"
            ]
          },
          "metadata": {
            "needs_background": "light"
          }
        }
      ]
    }
  ]
}